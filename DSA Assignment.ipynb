{
 "cells": [
  {
   "cell_type": "code",
   "execution_count": null,
   "id": "cc306139-d444-4fcb-a244-30e0211bc2d6",
   "metadata": {},
   "outputs": [],
   "source": [
    "Problem 1: Reverse a singly linked list.\n",
    "Input: 1 -> 2 -> 3 -> 4 -> 5\n",
    "\n",
    "Output: 5 -> 4 -> 3 -> 2 -> "
   ]
  },
  {
   "cell_type": "code",
   "execution_count": 6,
   "id": "6524908f-975d-48e7-a3e0-30b0c635ca39",
   "metadata": {},
   "outputs": [
    {
     "name": "stdout",
     "output_type": "stream",
     "text": [
      "Input: 1 -> 2 -> 3 -> 4 -> 5 -> \n",
      "Output: 5 -> 4 -> 3 -> 2 -> 1 -> \n"
     ]
    }
   ],
   "source": [
    "class ListNode:\n",
    "    def __init__(self, val=0, next=None):\n",
    "        self.val = val\n",
    "        self.next = next\n",
    "\n",
    "def reverseLinkedList(head):\n",
    "    prev = None\n",
    "    current = head\n",
    "    while current is not None:\n",
    "        next_node = current.next\n",
    "        current.next = prev\n",
    "        prev = current\n",
    "        current = next_node\n",
    "    return prev\n",
    "\n",
    "def printLinkedList(head):\n",
    "    current = head\n",
    "    while current is not None:\n",
    "        print(current.val, end=\" -> \")\n",
    "        current = current.next\n",
    "    print()\n",
    "\n",
    "# Example usage:\n",
    "if __name__ == \"__main__\":\n",
    "    head = ListNode(1)\n",
    "    head.next = ListNode(2)\n",
    "    head.next.next = ListNode(3)\n",
    "    head.next.next.next = ListNode(4)\n",
    "    head.next.next.next.next = ListNode(5)\n",
    "\n",
    "    print(\"Input:\", end=\" \")\n",
    "    printLinkedList(head)\n",
    "\n",
    "    # Reverse the linked list\n",
    "    reversed_head = reverseLinkedList(head)\n",
    "\n",
    "    print(\"Output:\", end=\" \")\n",
    "    printLinkedList(reversed_head)\n"
   ]
  },
  {
   "cell_type": "code",
   "execution_count": null,
   "id": "d3113a6b-4881-4b55-8d3b-e9b91b237630",
   "metadata": {},
   "outputs": [],
   "source": [
    "Problem 2: Merge two sorted linked lists into one sorted linked list\n",
    "Input: List 1: 1 -> 3 -> 5, List 2: 2 -> 4 -> 6\n",
    "\n",
    "Output: 1 -> 2 -> 3 -> 4 -> 5 -> 6"
   ]
  },
  {
   "cell_type": "code",
   "execution_count": 7,
   "id": "969a5537-00fb-4b31-946c-c73202ee2e24",
   "metadata": {},
   "outputs": [
    {
     "name": "stdout",
     "output_type": "stream",
     "text": [
      "Merged Sorted Linked List:\n",
      "1 -> 2 -> 3 -> 4 -> 5 -> 6 -> None\n"
     ]
    }
   ],
   "source": [
    "class ListNode:\n",
    "    def __init__(self, value=0, next=None):\n",
    "        self.value = value\n",
    "        self.next = next\n",
    "\n",
    "def merge_sorted_lists(list1, list2):\n",
    "    dummy = ListNode()\n",
    "    current = dummy\n",
    "\n",
    "    while list1 is not None and list2 is not None:\n",
    "        if list1.value < list2.value:\n",
    "            current.next = list1\n",
    "            list1 = list1.next\n",
    "        else:\n",
    "            current.next = list2\n",
    "            list2 = list2.next\n",
    "\n",
    "        current = current.next\n",
    "\n",
    "    # If any of the lists is not empty, append the remaining nodes\n",
    "    if list1 is not None:\n",
    "        current.next = list1\n",
    "    elif list2 is not None:\n",
    "        current.next = list2\n",
    "\n",
    "    return dummy.next\n",
    "\n",
    "def print_linked_list(head):\n",
    "    current = head\n",
    "    while current:\n",
    "        print(current.value, end=\" -> \")\n",
    "        current = current.next\n",
    "    print(\"None\")\n",
    "\n",
    "# Example usage:\n",
    "# Create two sorted linked lists\n",
    "list1 = ListNode(1, ListNode(3, ListNode(5)))\n",
    "list2 = ListNode(2, ListNode(4, ListNode(6)))\n",
    "\n",
    "# Merge the two sorted linked lists\n",
    "merged_list = merge_sorted_lists(list1, list2)\n",
    "\n",
    "# Print the merged sorted linked list\n",
    "print(\"Merged Sorted Linked List:\")\n",
    "print_linked_list(merged_list)\n"
   ]
  },
  {
   "cell_type": "code",
   "execution_count": null,
   "id": "e4d4ab86-d927-4ee3-bce5-4395226d9fb4",
   "metadata": {},
   "outputs": [],
   "source": [
    "Problem 3: Remove the nth node from the end of a linked list.\n",
    "Input: 1 -> 2 -> 3 -> 4 -> 5, n = 2\n",
    "\n",
    "Output: 1 -> 2 -> 3 -> 5"
   ]
  },
  {
   "cell_type": "code",
   "execution_count": 41,
   "id": "ec9dffc3-8c4a-4208-9c9e-4646ac0ce435",
   "metadata": {},
   "outputs": [
    {
     "name": "stdout",
     "output_type": "stream",
     "text": [
      "Updated Linked List:\n",
      "1->2->3->5->None\n"
     ]
    }
   ],
   "source": [
    "class ListNode:\n",
    "    def __init__(self, value=0, next=None):\n",
    "        self.value = value\n",
    "        self.next = next\n",
    "        \n",
    "    def remove_nth_from_end(head, n):\n",
    "        dummy = ListNode(0)\n",
    "        dummy.next = head\n",
    "        first = dummy\n",
    "        second = dummy\n",
    "        \n",
    "        for _ in range( n + 1):\n",
    "            first = first.next\n",
    "            \n",
    "        while first is not None:\n",
    "            first = first.next\n",
    "            second = second.next\n",
    "            \n",
    "        second.next = second.next.next\n",
    "        \n",
    "        return dummy.next\n",
    "    \n",
    "    def print_linked_list(head):\n",
    "        current = head\n",
    "        while current:\n",
    "            print(current.value, end=\"->\")\n",
    "            current = current.next\n",
    "        print(\"None\")\n",
    "    \n",
    "    head = ListNode(1, ListNode(2, ListNode(3, ListNode(4, ListNode(5)))))\n",
    "    \n",
    "    n = 2\n",
    "    new_head = remove_nth_from_end(head, n)\n",
    "    \n",
    "    print(\"Updated Linked List:\")\n",
    "    print_linked_list(new_head)\n",
    "                    \n",
    "    \n",
    "                    "
   ]
  },
  {
   "cell_type": "code",
   "execution_count": null,
   "id": "e13c4388-b042-4554-91e8-7cc1ff3b7faa",
   "metadata": {},
   "outputs": [],
   "source": [
    "Problem 4: Find the intersection point of two linked lists\n",
    "Input: List 1: 1 -> 2 -> 3 -> 4, List 2: 9 -> 8 -> 3 -> 4\n",
    "\n",
    "Output: Node with value 3"
   ]
  },
  {
   "cell_type": "code",
   "execution_count": 1,
   "id": "87e9565d-3aa5-4052-b5b3-c8f3552e20b5",
   "metadata": {},
   "outputs": [
    {
     "name": "stdout",
     "output_type": "stream",
     "text": [
      "Intersection Node Value: 3\n"
     ]
    }
   ],
   "source": [
    "class ListNode:\n",
    "    def __init__(self, value=0, next=None):\n",
    "        self.value = value\n",
    "        self.next = next\n",
    "\n",
    "def get_intersection_node(head1, head2):\n",
    "    def get_length_and_tail(node):\n",
    "        length = 0\n",
    "        tail = None\n",
    "        while node:\n",
    "            length += 1\n",
    "            tail = node\n",
    "            node = node.next\n",
    "        return length, tail\n",
    "\n",
    "    len1, tail1 = get_length_and_tail(head1)\n",
    "    len2, tail2 = get_length_and_tail(head2)\n",
    "\n",
    "    \n",
    "    if tail1 != tail2:\n",
    "        return None\n",
    "\n",
    "    current1, current2 = head1, head2\n",
    "    if len1 > len2:\n",
    "        for _ in range(len1 - len2):\n",
    "            current1 = current1.next\n",
    "    else:\n",
    "        for _ in range(len2 - len1):\n",
    "            current2 = current2.next\n",
    "\n",
    "    while current1 != current2:\n",
    "        current1 = current1.next\n",
    "        current2 = current2.next\n",
    "\n",
    "    return current1\n",
    "\n",
    "node1 = ListNode(1)\n",
    "node2 = ListNode(2)\n",
    "node3 = ListNode(3)\n",
    "node4 = ListNode(4)\n",
    "\n",
    "node9 = ListNode(9)\n",
    "node8 = ListNode(8)\n",
    "\n",
    "node1.next = node2\n",
    "node2.next = node3\n",
    "node3.next = node4\n",
    "\n",
    "node9.next = node8\n",
    "node8.next = node3  \n",
    "\n",
    "intersection_node = get_intersection_node(node1, node9)\n",
    "\n",
    "if intersection_node:\n",
    "    print(\"Intersection Node Value:\", intersection_node.value)\n",
    "else:\n",
    "    print(\"The lists do not intersect.\")\n"
   ]
  },
  {
   "cell_type": "code",
   "execution_count": null,
   "id": "e3806055-e535-4fff-b60d-7ca86eb24283",
   "metadata": {},
   "outputs": [],
   "source": [
    "Problem 5: Remove duplicates from a sorted linked list\n",
    "Input: 1 -> 1 -> 2 -> 3 -> 3\n",
    "Output: 1 -> 2 -> 3"
   ]
  },
  {
   "cell_type": "code",
   "execution_count": 21,
   "id": "b5e51928-a269-43f2-87cb-a68f0601d0d6",
   "metadata": {},
   "outputs": [
    {
     "name": "stdout",
     "output_type": "stream",
     "text": [
      "Original Linked List:\n",
      "1 -> 1 -> 2 -> 3 -> 3 -> None\n",
      "\n",
      "Linked List after removing duplicates:\n",
      "1 -> 2 -> 3 -> None\n"
     ]
    }
   ],
   "source": [
    "class ListNode:\n",
    "    def __init__(self, value=0, next=None):\n",
    "        self.value = value\n",
    "        self.next = next\n",
    "\n",
    "def remove_duplicates(head):\n",
    "    current = head\n",
    "\n",
    "    while current and current.next:\n",
    "        if current.value == current.next.value:\n",
    "            # Remove the duplicate node by updating the next pointer.\n",
    "            current.next = current.next.next\n",
    "        else:\n",
    "            # Move to the next node.\n",
    "            current = current.next\n",
    "\n",
    "    return head\n",
    "\n",
    "def print_linked_list(head):\n",
    "    current = head\n",
    "    while current:\n",
    "        print(current.value, end=\" -> \")\n",
    "        current = current.next\n",
    "    print(\"None\")\n",
    "\n",
    "# Example usage:\n",
    "# Input: 1 -> 1 -> 2 -> 3 -> 3\n",
    "# Output: 1 -> 2 -> 3\n",
    "node1 = ListNode(1)\n",
    "node2 = ListNode(1)\n",
    "node3 = ListNode(2)\n",
    "node4 = ListNode(3)\n",
    "node5 = ListNode(3)\n",
    "\n",
    "node1.next = node2\n",
    "node2.next = node3\n",
    "node3.next = node4\n",
    "node4.next = node5\n",
    "\n",
    "print(\"Original Linked List:\")\n",
    "print_linked_list(node1)\n",
    "\n",
    "new_head = remove_duplicates(node1)\n",
    "\n",
    "print(\"\\nLinked List after removing duplicates:\")\n",
    "print_linked_list(new_head)\n"
   ]
  },
  {
   "cell_type": "code",
   "execution_count": null,
   "id": "77218472-86c3-4d5e-aa12-4532d8b0fcbb",
   "metadata": {},
   "outputs": [],
   "source": [
    "Problem 6: Add two numbers represented by linked lists (where each node contains a single digit)\n",
    "Input: List 1: 2 -> 4 -> 3, List 2: 5 -> 6 -> 4 (represents 342 + 465)\n",
    "\n",
    "Output: 7 -> 0 -> 8 (represents 807)"
   ]
  },
  {
   "cell_type": "code",
   "execution_count": 4,
   "id": "ab7bff99-7b1b-43d1-bfb2-44c78678796e",
   "metadata": {},
   "outputs": [
    {
     "name": "stdout",
     "output_type": "stream",
     "text": [
      "7 -> 0 -> 8 -> "
     ]
    }
   ],
   "source": [
    "class ListNode:\n",
    "    def __init__(self, value=0, next=None):\n",
    "        self.value = value\n",
    "        self.next = next\n",
    "\n",
    "def add_linked_lists(list1, list2):\n",
    "    dummy_head = ListNode()\n",
    "    current = dummy_head\n",
    "    carry = 0\n",
    "\n",
    "    while list1 or list2 or carry:\n",
    "        value1 = list1.value if list1 else 0\n",
    "        value2 = list2.value if list2 else 0\n",
    "\n",
    "        total = value1 + value2 + carry\n",
    "        carry, digit = divmod(total, 10)\n",
    "\n",
    "        current.next = ListNode(digit)\n",
    "        current = current.next\n",
    "\n",
    "        if list1:\n",
    "            list1 = list1.next\n",
    "        if list2:\n",
    "            list2 = list2.next\n",
    "\n",
    "    return dummy_head.next\n",
    "\n",
    "list1 = ListNode(2, ListNode(4, ListNode(3)))\n",
    "list2 = ListNode(5, ListNode(6, ListNode(4)))\n",
    "\n",
    "result = add_linked_lists(list1, list2)\n",
    "\n",
    "while result:\n",
    "    print(result.value, end=\" -> \")\n",
    "    result = result.next\n"
   ]
  },
  {
   "cell_type": "code",
   "execution_count": null,
   "id": "530613b3-496d-499a-9a7c-7af40dcc1a94",
   "metadata": {},
   "outputs": [],
   "source": [
    "Problem 7: Swap nodes in pairs in a linked list\n",
    "Input: 1 -> 2 -> 3 -> 4\n",
    "\n",
    "Output: 2 -> 1 -> 4 -> 3"
   ]
  },
  {
   "cell_type": "code",
   "execution_count": 3,
   "id": "2a44f8d2-de41-4bf0-aa36-5d95d9541b02",
   "metadata": {},
   "outputs": [
    {
     "name": "stdout",
     "output_type": "stream",
     "text": [
      "2 -> 1 -> 4 -> 3 -> "
     ]
    }
   ],
   "source": [
    "class ListNode:\n",
    "    def __init__(self, value=0, next=None):\n",
    "        self.value = value\n",
    "        self.next = next\n",
    "\n",
    "def swap_pairs(head):\n",
    "    dummy_head = ListNode(0)\n",
    "    dummy_head.next = head\n",
    "    current = dummy_head\n",
    "\n",
    "    while current.next and current.next.next:\n",
    "        node1 = current.next\n",
    "        node2 = current.next.next\n",
    "\n",
    "        current.next = node2\n",
    "        node1.next = node2.next\n",
    "        node2.next = node1\n",
    "\n",
    "        current = node1\n",
    "\n",
    "    return dummy_head.next\n",
    "\n",
    "original_list = ListNode(1, ListNode(2, ListNode(3, ListNode(4))))\n",
    "swapped_list = swap_pairs(original_list)\n",
    "\n",
    "while swapped_list:\n",
    "    print(swapped_list.value, end=\" -> \")\n",
    "    swapped_list = swapped_list.next\n"
   ]
  },
  {
   "cell_type": "code",
   "execution_count": null,
   "id": "d7dd92d8-a3a5-426f-84ca-c0130f9e8bb6",
   "metadata": {},
   "outputs": [],
   "source": [
    "Problem 8: Reverse nodes in a linked list in groups of k\n",
    "Input: 1 -> 2 -> 3 -> 4 -> 5, k = 3\n",
    "Output: 3 -> 2 -> 1 -> 4 -> 5"
   ]
  },
  {
   "cell_type": "code",
   "execution_count": 11,
   "id": "76cd1b70-ddad-4cb6-a76e-e81e84d15308",
   "metadata": {},
   "outputs": [
    {
     "name": "stdout",
     "output_type": "stream",
     "text": [
      "Input: 1 -> 2 -> 3 -> 4 -> 5 -> \n",
      "Output: 3 -> 2 -> 1 -> 4 -> 5 -> \n"
     ]
    }
   ],
   "source": [
    "class ListNode:\n",
    "    def __init__(self, val=0, next=None):\n",
    "        self.val = val\n",
    "        self.next = next\n",
    "\n",
    "def reverseKGroup(head, k):\n",
    "    dummy = ListNode(0)\n",
    "    dummy.next = head\n",
    "    prev_group_end = dummy\n",
    "    \n",
    "    while True:\n",
    "        group_start = prev_group_end.next\n",
    "        end_of_group = group_start\n",
    "        for _ in range(k - 1):\n",
    "            if end_of_group is None:\n",
    "                return dummy.next\n",
    "            end_of_group = end_of_group.next\n",
    "        if end_of_group is None:\n",
    "            return dummy.next\n",
    "        \n",
    "        next_group_start = end_of_group.next\n",
    "        end_of_group.next = None\n",
    "        \n",
    "        prev = None\n",
    "        current = group_start\n",
    "        while current:\n",
    "            next_node = current.next\n",
    "            current.next = prev\n",
    "            prev = current\n",
    "            current = next_node\n",
    "        \n",
    "        prev_group_end.next = end_of_group\n",
    "        group_start.next = next_group_start\n",
    "        prev_group_end = group_start\n",
    "\n",
    "    return dummy.next\n",
    "\n",
    "def printLinkedList(head):\n",
    "    current = head\n",
    "    while current is not None:\n",
    "        print(current.val, end=\" -> \")\n",
    "        current = current.next\n",
    "    print()\n",
    "\n",
    "# Example usage:\n",
    "if __name__ == \"__main__\":\n",
    "    # Create the input linked list: 1 -> 2 -> 3 -> 4 -> 5\n",
    "    head = ListNode(1)\n",
    "    head.next = ListNode(2)\n",
    "    head.next.next = ListNode(3)\n",
    "    head.next.next.next = ListNode(4)\n",
    "    head.next.next.next.next = ListNode(5)\n",
    "\n",
    "    print(\"Input:\", end=\" \")\n",
    "    printLinkedList(head)\n",
    "\n",
    "    k = 3\n",
    "    # Reverse nodes in groups of k\n",
    "    reversed_head = reverseKGroup(head, k)\n",
    "\n",
    "    print(\"Output:\", end=\" \")\n",
    "    printLinkedList(reversed_head)\n"
   ]
  },
  {
   "cell_type": "code",
   "execution_count": null,
   "id": "8c362053-15a4-4928-b50a-593db5ced727",
   "metadata": {},
   "outputs": [],
   "source": [
    "Problem 9: Determine if a linked list is a palindrome\n",
    "Input: 1 -> 2 -> 2 -> 1\n",
    "\n",
    "Output: True"
   ]
  },
  {
   "cell_type": "code",
   "execution_count": 16,
   "id": "1cbdf40d-5404-4e29-8d03-c84be7aaf89f",
   "metadata": {},
   "outputs": [
    {
     "name": "stdin",
     "output_type": "stream",
     "text": [
      "Enter the numbers separated by arrows (->):  1->2->2->1\n"
     ]
    },
    {
     "name": "stdout",
     "output_type": "stream",
     "text": [
      "Input:\n",
      "1 -> 2 -> 2 -> 1 -> None\n",
      "Output: True\n"
     ]
    }
   ],
   "source": [
    "class ListNode:\n",
    "    def __init__(self, val=0, next=None):\n",
    "        self.val = val\n",
    "        self.next = next\n",
    "\n",
    "def isPalindrome(head):\n",
    "    # Find the middle of the linked list\n",
    "    slow = head\n",
    "    fast = head\n",
    "    while fast and fast.next:\n",
    "        slow = slow.next\n",
    "        fast = fast.next.next\n",
    "    \n",
    "    # Reverse the second half of the linked list\n",
    "    prev = None\n",
    "    current = slow\n",
    "    while current:\n",
    "        next_node = current.next\n",
    "        current.next = prev\n",
    "        prev = current\n",
    "        current = next_node\n",
    "    \n",
    "    # Compare the first half with the reversed second half\n",
    "    first_half = head\n",
    "    second_half = prev\n",
    "    while second_half:\n",
    "        if first_half.val != second_half.val:\n",
    "            return False\n",
    "        first_half = first_half.next\n",
    "        second_half = second_half.next\n",
    "    \n",
    "    return True\n",
    "\n",
    "def createLinkedList(nums):\n",
    "    head = None\n",
    "    current = None\n",
    "    for num in nums:\n",
    "        if head is None:\n",
    "            head = ListNode(num)\n",
    "            current = head\n",
    "        else:\n",
    "            current.next = ListNode(num)\n",
    "            current = current.next\n",
    "    return head\n",
    "\n",
    "def printLinkedList(head):\n",
    "    current = head\n",
    "    while current:\n",
    "        print(current.val, end=\" -> \")\n",
    "        current = current.next\n",
    "    print(\"None\")\n",
    "\n",
    "# Example usage:\n",
    "if __name__ == \"__main__\":\n",
    "    nums = input(\"Enter the numbers separated by arrows (->): \").split(\"->\")\n",
    "    nums = [int(num) for num in nums if num.strip()]  # Filter out empty strings\n",
    "    \n",
    "    # Create the linked list\n",
    "    head = createLinkedList(nums)\n",
    "\n",
    "    print(\"Input:\")\n",
    "    printLinkedList(head)\n",
    "\n",
    "    # Check if the linked list is a palindrome\n",
    "    print(\"Output:\", isPalindrome(head))\n"
   ]
  },
  {
   "cell_type": "code",
   "execution_count": null,
   "id": "37e731ea-303f-4f44-8f35-33de7ca2c6ed",
   "metadata": {},
   "outputs": [],
   "source": [
    "Problem 10: Rotate a linked list to the right by k places\n",
    "Input: 1 -> 2 -> 3 -> 4 -> 5, k = 2\n",
    "\n",
    "Output: 4 -> 5 -> 1 -> 2 -> 3"
   ]
  },
  {
   "cell_type": "code",
   "execution_count": 18,
   "id": "47ea25f3-d5a2-4dff-b714-03b2368b0f40",
   "metadata": {},
   "outputs": [
    {
     "name": "stdin",
     "output_type": "stream",
     "text": [
      "Enter the numbers separated by arrows (->):  1->2->3->4->5\n",
      "Enter the value of k:  3\n"
     ]
    },
    {
     "name": "stdout",
     "output_type": "stream",
     "text": [
      "Input:\n",
      "1 -> 2 -> 3 -> 4 -> 5 -> None\n",
      "Output:\n",
      "3 -> 4 -> 5 -> 1 -> 2 -> None\n"
     ]
    }
   ],
   "source": [
    "class ListNode:\n",
    "    def __init__(self, val=0, next=None):\n",
    "        self.val = val\n",
    "        self.next = next\n",
    "\n",
    "def rotateRight(head, k):\n",
    "    # Check for empty list or k = 0\n",
    "    if not head or k == 0:\n",
    "        return head\n",
    "    \n",
    "    # Calculate the length of the linked list\n",
    "    length = 0\n",
    "    current = head\n",
    "    while current:\n",
    "        length += 1\n",
    "        current = current.next\n",
    "    \n",
    "    # Calculate the actual rotation amount\n",
    "    k = k % length\n",
    "    \n",
    "    if k == 0:\n",
    "        return head\n",
    "    \n",
    "    # Find the node just before the new head position\n",
    "    new_head_position = length - k\n",
    "    current = head\n",
    "    for _ in range(new_head_position - 1):\n",
    "        current = current.next\n",
    "    \n",
    "    # Set the new head and new tail\n",
    "    new_head = current.next\n",
    "    current.next = None\n",
    "    \n",
    "    # Traverse to the end of the list to set the new tail\n",
    "    current = new_head\n",
    "    while current.next:\n",
    "        current = current.next\n",
    "    \n",
    "    current.next = head\n",
    "    \n",
    "    return new_head\n",
    "\n",
    "def createLinkedList(nums):\n",
    "    head = None\n",
    "    current = None\n",
    "    for num in nums:\n",
    "        if head is None:\n",
    "            head = ListNode(num)\n",
    "            current = head\n",
    "        else:\n",
    "            current.next = ListNode(num)\n",
    "            current = current.next\n",
    "    return head\n",
    "\n",
    "def printLinkedList(head):\n",
    "    current = head\n",
    "    while current:\n",
    "        print(current.val, end=\" -> \")\n",
    "        current = current.next\n",
    "    print(\"None\")\n",
    "\n",
    "# Example usage:\n",
    "if __name__ == \"__main__\":\n",
    "    nums = input(\"Enter the numbers separated by arrows (->): \").split(\"->\")\n",
    "    nums = [int(num) for num in nums if num.strip()]  # Filter out empty strings\n",
    "    k = int(input(\"Enter the value of k: \"))\n",
    "\n",
    "    # Create the linked list\n",
    "    head = createLinkedList(nums)\n",
    "\n",
    "    print(\"Input:\")\n",
    "    printLinkedList(head)\n",
    "\n",
    "    # Rotate the linked list\n",
    "    rotated_head = rotateRight(head, k)\n",
    "\n",
    "    print(\"Output:\")\n",
    "    printLinkedList(rotated_head)\n"
   ]
  },
  {
   "cell_type": "code",
   "execution_count": null,
   "id": "9c2f3464-f117-4fd7-ad2e-837b0483a598",
   "metadata": {},
   "outputs": [],
   "source": [
    "Problem 11: Flatten a multilevel doubly linked list\n",
    "Input: 1 <-> 2 <-> 3 <-> 7 <-> 8 <-> 11 -> 12, 4 <-> 5 -> 9 -> 10, 6 -> 13\n",
    "\n",
    "Output: 1 <-> 2 <-> 3 <-> 4 <-> 5 <-> 6 <-> 7 <-> 8 <-> 9 <-> 10 <-> 11 <-> 12 <-> 13"
   ]
  },
  {
   "cell_type": "code",
   "execution_count": 19,
   "id": "d7f323ae-c194-4dc9-8748-283be14217dc",
   "metadata": {},
   "outputs": [
    {
     "name": "stdout",
     "output_type": "stream",
     "text": [
      "Output:\n",
      "1 <-> 2 <-> 3 <-> 7 <-> 4 <-> 5 <-> 6 <-> 13 <-> 9 <-> 10 <-> 8 <-> 11 <-> 12 <-> None\n"
     ]
    }
   ],
   "source": [
    "class Node:\n",
    "    def __init__(self, val=None, prev=None, next=None, child=None):\n",
    "        self.val = val\n",
    "        self.prev = prev\n",
    "        self.next = next\n",
    "        self.child = child\n",
    "\n",
    "def flattenLinkedList(head):\n",
    "    if not head:\n",
    "        return head\n",
    "    \n",
    "    dummy = Node(0, None, head, None)\n",
    "    current = dummy\n",
    "    \n",
    "    stack = []\n",
    "    while current:\n",
    "        if current.child:\n",
    "            if current.next:\n",
    "                stack.append(current.next)\n",
    "            current.next = current.child\n",
    "            current.child.prev = current\n",
    "            current.child = None\n",
    "        if not current.next and stack:\n",
    "            next_node = stack.pop()\n",
    "            current.next = next_node\n",
    "            next_node.prev = current\n",
    "        current = current.next\n",
    "    \n",
    "    return dummy.next\n",
    "\n",
    "def createMultilevelLinkedList(nums):\n",
    "    if not nums:\n",
    "        return None\n",
    "    head = Node(nums[0])\n",
    "    current = head\n",
    "    for val in nums[1:]:\n",
    "        new_node = Node(val)\n",
    "        current.next = new_node\n",
    "        new_node.prev = current\n",
    "        current = current.next\n",
    "    return head\n",
    "\n",
    "def printLinkedList(head):\n",
    "    current = head\n",
    "    while current:\n",
    "        print(current.val, end=\" <-> \")\n",
    "        current = current.next\n",
    "    print(\"None\")\n",
    "\n",
    "# Example usage:\n",
    "if __name__ == \"__main__\":\n",
    "    # Create the multilevel doubly linked list\n",
    "    nums1 = [1, 2, 3, 7, 8, 11, 12]\n",
    "    nums2 = [4, 5, 9, 10]\n",
    "    nums3 = [6, 13]\n",
    "\n",
    "    head1 = createMultilevelLinkedList(nums1)\n",
    "    head2 = createMultilevelLinkedList(nums2)\n",
    "    head3 = createMultilevelLinkedList(nums3)\n",
    "\n",
    "    # Connect the nodes with child pointers\n",
    "    head1.next.next.next.child = head2\n",
    "    head2.next.child = head3\n",
    "\n",
    "    # Flatten the multilevel doubly linked list\n",
    "    flattened_head = flattenLinkedList(head1)\n",
    "\n",
    "    print(\"Output:\")\n",
    "    printLinkedList(flattened_head)\n"
   ]
  },
  {
   "cell_type": "code",
   "execution_count": null,
   "id": "df0458b2-97c0-4784-9ce5-b48a1599437f",
   "metadata": {},
   "outputs": [],
   "source": [
    "Problem 12: Rearrange a linked list such that all even positioned nodes are placed at the end.\n",
    "Input: 1 -> 2 -> 3 -> 4 -> 5\n",
    "\n",
    "Output: 1 -> 3 -> 5 -> 2 -> 4"
   ]
  },
  {
   "cell_type": "code",
   "execution_count": 21,
   "id": "21bf9a5e-95f2-4dca-b56a-3c8ad8fe6064",
   "metadata": {},
   "outputs": [
    {
     "name": "stdout",
     "output_type": "stream",
     "text": [
      "Input:\n",
      "1 -> 2 -> 3 -> 4 -> 5 -> \n",
      "Output:\n",
      "1 -> 3 -> 5 -> 2 -> 4 -> \n"
     ]
    }
   ],
   "source": [
    "class ListNode:\n",
    "    def __init__(self, val=0, next=None):\n",
    "        self.val = val\n",
    "        self.next = next\n",
    "\n",
    "def rearrangeLinkedList(head):\n",
    "    if not head or not head.next:\n",
    "        return head\n",
    "\n",
    "    # Separate odd and even positioned nodes\n",
    "    odd_head = head\n",
    "    even_head = head.next\n",
    "    odd_current = odd_head\n",
    "    even_current = even_head\n",
    "\n",
    "    while even_current and even_current.next:\n",
    "        odd_current.next = even_current.next\n",
    "        odd_current = odd_current.next\n",
    "        even_current.next = odd_current.next\n",
    "        even_current = even_current.next\n",
    "\n",
    "    # Connect the last node of the odd list to the first node of the even list\n",
    "    odd_current.next = even_head\n",
    "\n",
    "    return odd_head\n",
    "\n",
    "def createLinkedList(nums):\n",
    "    head = None\n",
    "    current = None\n",
    "    for num in nums:\n",
    "        if head is None:\n",
    "            head = ListNode(num)\n",
    "            current = head\n",
    "        else:\n",
    "            current.next = ListNode(num)\n",
    "            current = current.next\n",
    "    return head\n",
    "\n",
    "def printLinkedList(head):\n",
    "    current = head\n",
    "    while current:\n",
    "        print(current.val, end=\" -> \")\n",
    "        current = current.next\n",
    "    print('')\n",
    "\n",
    "# Example usage:\n",
    "if __name__ == \"__main__\":\n",
    "    # Create the input linked list: 1 -> 2 -> 3 -> 4 -> 5\n",
    "    nums = [1, 2, 3, 4, 5]\n",
    "    head = createLinkedList(nums)\n",
    "\n",
    "    print(\"Input:\")\n",
    "    printLinkedList(head)\n",
    "\n",
    "    # Rearrange the linked list\n",
    "    rearranged_head = rearrangeLinkedList(head)\n",
    "\n",
    "    print(\"Output:\")\n",
    "    printLinkedList(rearranged_head)\n"
   ]
  },
  {
   "cell_type": "code",
   "execution_count": null,
   "id": "1b267342-c55b-46cb-a3f7-92ccfff41bad",
   "metadata": {},
   "outputs": [],
   "source": [
    "Problem 13: Given a non-negative number represented as a linked list, add one to it\n",
    "Input: 1 -> 2 -> 3 (represents the number 123)\n",
    "\n",
    "Output: 1 -> 2 -> 4 (represents the number 124)"
   ]
  },
  {
   "cell_type": "code",
   "execution_count": 25,
   "id": "e4cf245d-97fb-434f-95dd-c2b718e270b7",
   "metadata": {},
   "outputs": [
    {
     "name": "stdout",
     "output_type": "stream",
     "text": [
      "Input:\n",
      "1 -> 2 -> 3 -> \n",
      "Output:\n",
      "1 -> 2 -> 4 -> \n"
     ]
    }
   ],
   "source": [
    "class ListNode:\n",
    "    def __init__(self, val=0, next=None):\n",
    "        self.val = val\n",
    "        self.next = next\n",
    "\n",
    "def addOneLinkedList(head):\n",
    "    # Reverse the linked list\n",
    "    prev = None\n",
    "    current = head\n",
    "    while current:\n",
    "        next_node = current.next\n",
    "        current.next = prev\n",
    "        prev = current\n",
    "        current = next_node\n",
    "    \n",
    "    # Add one to the number represented by the linked list\n",
    "    carry = 1\n",
    "    current = prev\n",
    "    while carry:\n",
    "        if current:\n",
    "            sum_val = current.val + carry\n",
    "        else:\n",
    "            sum_val = carry\n",
    "        carry = sum_val // 10\n",
    "        if current:\n",
    "            current.val = sum_val % 10\n",
    "            prev = current\n",
    "            current = current.next\n",
    "        else:\n",
    "            prev.next = ListNode(sum_val % 10)\n",
    "            prev = prev.next\n",
    "    \n",
    "    # Reverse the linked list again\n",
    "    head = None\n",
    "    while prev:\n",
    "        next_node = prev.next\n",
    "        prev.next = head\n",
    "        head = prev\n",
    "        prev = next_node\n",
    "    \n",
    "    return head\n",
    "\n",
    "def createLinkedList(nums):\n",
    "    head = None\n",
    "    current = None\n",
    "    for num in nums:\n",
    "        if head is None:\n",
    "            head = ListNode(num)\n",
    "            current = head\n",
    "        else:\n",
    "            current.next = ListNode(num)\n",
    "            current = current.next\n",
    "    return head\n",
    "\n",
    "def printLinkedList(head):\n",
    "    current = head\n",
    "    while current:\n",
    "        print(current.val, end=\" -> \")\n",
    "        current = current.next\n",
    "    print(\"\")\n",
    "\n",
    "# Example usage:\n",
    "if __name__ == \"__main__\":\n",
    "    # Create the input linked list: 1 -> 2 -> 3\n",
    "    nums = [1, 2, 3]\n",
    "    head = createLinkedList(nums)\n",
    "\n",
    "    print(\"Input:\")\n",
    "    printLinkedList(head)\n",
    "\n",
    "    # Add one to the linked list\n",
    "    new_head = addOneLinkedList(head)\n",
    "\n",
    "    print(\"Output:\")\n",
    "    printLinkedList(new_head)\n"
   ]
  },
  {
   "cell_type": "code",
   "execution_count": null,
   "id": "0a8a82be-8106-425c-96de-6d74f6ea30aa",
   "metadata": {},
   "outputs": [],
   "source": [
    "Problem 14: Given a sorted array and a target value, return the index if the target is found. If not, return the \n",
    "index where it would be inserted.\n",
    "Input: nums = [1, 3, 5, 6], target = 5\n",
    "\n",
    "Output: 2"
   ]
  },
  {
   "cell_type": "code",
   "execution_count": 30,
   "id": "9c93e082-47e1-49cf-acf4-57829f9d7980",
   "metadata": {},
   "outputs": [
    {
     "name": "stdout",
     "output_type": "stream",
     "text": [
      "Output: 2\n"
     ]
    }
   ],
   "source": [
    "def searchInsert(nums, target):\n",
    "    left = 0\n",
    "    right = len(nums) - 1\n",
    "\n",
    "    while left <= right:\n",
    "        mid = (left + right) // 2\n",
    "        if nums[mid] == target:\n",
    "            return mid\n",
    "        elif nums[mid] < target:\n",
    "            left = mid + 1\n",
    "        else:\n",
    "            right = mid - 1\n",
    "\n",
    "    return left\n",
    "\n",
    "# Example usage:\n",
    "if __name__ == \"__main__\":\n",
    "    nums = [1, 3, 5, 6]\n",
    "    target = 5\n",
    "\n",
    "    result = searchInsert(nums, target)\n",
    "    print(\"Output:\", result)\n"
   ]
  },
  {
   "cell_type": "code",
   "execution_count": null,
   "id": "a6788464-0d48-47b5-9e46-fef49456cf9d",
   "metadata": {},
   "outputs": [],
   "source": [
    "Problem 15: Find the minimum element in a rotated sorted array\n",
    "Input: [4, 5, 6, 7, 0, 1, 2]\n",
    "\n",
    "Output: 0"
   ]
  },
  {
   "cell_type": "code",
   "execution_count": 34,
   "id": "2e7d842e-a735-4b8a-9c5a-704fb2abd1d7",
   "metadata": {},
   "outputs": [
    {
     "name": "stdout",
     "output_type": "stream",
     "text": [
      "Output: 0\n"
     ]
    }
   ],
   "source": [
    "def findMin(nums):\n",
    "    left = 0\n",
    "    right = len(nums) - 1\n",
    "\n",
    "    while left < right:\n",
    "        mid = left + (right - left) // 2\n",
    "\n",
    "        if nums[mid] > nums[right]:\n",
    "            left = mid + 1\n",
    "        else:\n",
    "            right = mid\n",
    "\n",
    "    return nums[left]\n",
    "\n",
    "# Example usage:\n",
    "if __name__ == \"__main__\":\n",
    "    nums = [4, 5, 6, 7,0, 1, 2]\n",
    "\n",
    "    result = findMin(nums)\n",
    "    print(\"Output:\", result)\n"
   ]
  },
  {
   "cell_type": "code",
   "execution_count": null,
   "id": "7fa1c41d-5b1f-4491-9c91-8cf9e26e22d6",
   "metadata": {},
   "outputs": [],
   "source": [
    "Problem 16: Search for a target value in a rotated sorted array\n",
    "Input: nums = [4, 5, 6, 7, 0, 1, 2], target = 0\n",
    "\n",
    "Output: 4"
   ]
  },
  {
   "cell_type": "code",
   "execution_count": 35,
   "id": "54e4136e-4191-43ac-ad54-e25a43d4229b",
   "metadata": {},
   "outputs": [
    {
     "name": "stdout",
     "output_type": "stream",
     "text": [
      "Output: 4\n"
     ]
    }
   ],
   "source": [
    "def search(nums, target):\n",
    "    left = 0\n",
    "    right = len(nums) - 1\n",
    "\n",
    "    while left <= right:\n",
    "        mid = left + (right - left) // 2\n",
    "\n",
    "        if nums[mid] == target:\n",
    "            return mid\n",
    "\n",
    "        if nums[left] <= nums[mid]:\n",
    "            if nums[left] <= target <= nums[mid]:\n",
    "                right = mid - 1\n",
    "            else:\n",
    "                left = mid + 1\n",
    "        else:\n",
    "            if nums[mid] <= target <= nums[right]:\n",
    "                left = mid + 1\n",
    "            else:\n",
    "                right = mid - 1\n",
    "\n",
    "    return -1\n",
    "\n",
    "# Example usage:\n",
    "if __name__ == \"__main__\":\n",
    "    nums = [4, 5, 6, 7, 0, 1, 2]\n",
    "    target = 0\n",
    "\n",
    "    result = search(nums, target)\n",
    "    print(\"Output:\", result)\n"
   ]
  },
  {
   "cell_type": "code",
   "execution_count": null,
   "id": "757c276c-692f-4cef-bc9d-45e28149a774",
   "metadata": {},
   "outputs": [],
   "source": [
    "Problem 17: Find the peak element in an array. A peak element is greater than its neighbors.\n",
    "Input: nums = [1, 2, 3, 1]\n",
    "\n",
    "Output: 2 (index of peak element)"
   ]
  },
  {
   "cell_type": "code",
   "execution_count": 36,
   "id": "d59baeeb-bc5f-4b3a-bb0c-8f50dbe7b63d",
   "metadata": {},
   "outputs": [
    {
     "name": "stdout",
     "output_type": "stream",
     "text": [
      "Output: 2\n"
     ]
    }
   ],
   "source": [
    "def findPeakElement(nums):\n",
    "    left = 0\n",
    "    right = len(nums) - 1\n",
    "\n",
    "    while left < right:\n",
    "        mid = left + (right - left) // 2\n",
    "\n",
    "        if nums[mid] < nums[mid + 1]:\n",
    "            left = mid + 1\n",
    "        else:\n",
    "            right = mid\n",
    "\n",
    "    return left\n",
    "\n",
    "# Example usage:\n",
    "if __name__ == \"__main__\":\n",
    "    nums = [1, 2, 3, 1]\n",
    "\n",
    "    result = findPeakElement(nums)\n",
    "    print(\"Output:\", result)\n"
   ]
  },
  {
   "cell_type": "code",
   "execution_count": null,
   "id": "6c117af9-52d6-469f-a0b2-d2d1316843c1",
   "metadata": {},
   "outputs": [],
   "source": [
    "Problem 18: Given a m x n matrix where each row and column is sorted in ascending order, count the number \n",
    "of negative numbers\n",
    "Input: grid = [[4, 3, 2, -1], [3, 2, 1, -1], [1, 1, -1, -2], [-1, -1, -2, -3]]\n",
    "\n",
    "Output: 8"
   ]
  },
  {
   "cell_type": "code",
   "execution_count": 37,
   "id": "90d14aa4-360c-47ec-9a7e-8a90bb470590",
   "metadata": {},
   "outputs": [
    {
     "name": "stdout",
     "output_type": "stream",
     "text": [
      "16\n"
     ]
    }
   ],
   "source": [
    "def count_negative_numbers(grid):\n",
    "    if not grid:\n",
    "        return 0\n",
    "    \n",
    "    count = 0\n",
    "    rows, cols = len(grid), len(grid[0])\n",
    "    row, col = 0, cols - 1  # Start from the top-right corner\n",
    "    \n",
    "    while row < rows and col >= 0:\n",
    "        if grid[row][col] < 0:\n",
    "            count += col + 1  # Increment count by the number of negative numbers in the current column\n",
    "            row += 1  # Move down to the next row\n",
    "        else:\n",
    "            col -= 1  # Move left to the previous column\n",
    "    \n",
    "    return count\n",
    "\n",
    "# Test the function with the given input\n",
    "grid = [[4, 3, 2, -1], [3, 2, 1, -1], [1, 1, -1, -2], [-1, -1, -2, -3]]\n",
    "print(count_negative_numbers(grid))  # Output: 8\n"
   ]
  },
  {
   "cell_type": "code",
   "execution_count": null,
   "id": "ef68b8dd-4e5e-476d-9d19-2df62b418497",
   "metadata": {},
   "outputs": [],
   "source": [
    "Problem 19: Given a 2D matrix sorted in ascending order in each row, and the first integer of each row is \n",
    "greater than the last integer of the previous row, determine if a target value is present in the matrix\n",
    "Input: matrix = [[1, 3, 5, 7], [10, 11, 16, 20], [23, 30, 34, 60]], target = 3\n",
    "\n",
    "Output: True"
   ]
  },
  {
   "cell_type": "code",
   "execution_count": 38,
   "id": "34adc534-8bf7-4781-9b7c-3f4d67095630",
   "metadata": {},
   "outputs": [
    {
     "name": "stdout",
     "output_type": "stream",
     "text": [
      "True\n"
     ]
    }
   ],
   "source": [
    "def search_matrix(matrix, target):\n",
    "    if not matrix or not matrix[0]:\n",
    "        return False\n",
    "    \n",
    "    rows, cols = len(matrix), len(matrix[0])\n",
    "    left, right = 0, rows * cols - 1\n",
    "    \n",
    "    while left <= right:\n",
    "        mid = (left + right) // 2\n",
    "        mid_element = matrix[mid // cols][mid % cols]\n",
    "        \n",
    "        if mid_element == target:\n",
    "            return True\n",
    "        elif mid_element < target:\n",
    "            left = mid + 1\n",
    "        else:\n",
    "            right = mid - 1\n",
    "            \n",
    "    return False\n",
    "\n",
    "# Test the function with the given input\n",
    "matrix = [[1, 3, 5, 7], [10, 11, 16, 20], [23, 30, 34, 60]]\n",
    "target = 3\n",
    "print(search_matrix(matrix, target))  # Output: True\n"
   ]
  },
  {
   "cell_type": "code",
   "execution_count": null,
   "id": "5bb29e75-c40e-467c-99fe-8bbde2612d78",
   "metadata": {},
   "outputs": [],
   "source": [
    "Problem 20: Find Median in Two Sorted Arrays\n",
    "\n",
    "Problem: Given two sorted arrays, find the median of the combined sorted array.\n",
    "Input: nums1 = [1, 3], nums2 = [2]\n",
    "\n",
    "Output: 2.0"
   ]
  },
  {
   "cell_type": "code",
   "execution_count": 39,
   "id": "c1314d28-3203-41f3-aa71-1fc00f1c9388",
   "metadata": {},
   "outputs": [
    {
     "name": "stdout",
     "output_type": "stream",
     "text": [
      "2\n"
     ]
    }
   ],
   "source": [
    "def findMedianSortedArrays(nums1, nums2):\n",
    "    # Merge the two sorted arrays\n",
    "    merged = sorted(nums1 + nums2)\n",
    "    \n",
    "    total_length = len(merged)\n",
    "    \n",
    "    # Check if the total length of the merged array is even or odd\n",
    "    if total_length % 2 == 0:\n",
    "        # If even, return the average of the two middle elements\n",
    "        mid_right = total_length // 2\n",
    "        mid_left = mid_right - 1\n",
    "        return (merged[mid_left] + merged[mid_right]) / 2\n",
    "    else:\n",
    "        # If odd, return the middle element\n",
    "        mid = total_length // 2\n",
    "        return merged[mid]\n",
    "\n",
    "# Test the function with the given input\n",
    "nums1 = [1, 3]\n",
    "nums2 = [2]\n",
    "print(findMedianSortedArrays(nums1, nums2))  # Output: 2.0\n"
   ]
  },
  {
   "cell_type": "code",
   "execution_count": null,
   "id": "e153b3b1-a95d-4128-bef1-dd453417d894",
   "metadata": {},
   "outputs": [],
   "source": [
    "Problem 21: Given a sorted character array and a target letter, find the smallest letter in the array that is \n",
    "greater than the target.\n",
    "Input: letters = ['c', 'f', 'j'], target = a\n",
    "Output: 'c"
   ]
  },
  {
   "cell_type": "code",
   "execution_count": 40,
   "id": "24c9be7e-2f86-4fb0-8a74-405792f70fa5",
   "metadata": {},
   "outputs": [
    {
     "name": "stdout",
     "output_type": "stream",
     "text": [
      "c\n"
     ]
    }
   ],
   "source": [
    "def nextGreatestLetter(letters, target):\n",
    "    left, right = 0, len(letters) - 1\n",
    "    \n",
    "    while left <= right:\n",
    "        mid = left + (right - left) // 2\n",
    "        \n",
    "        if letters[mid] <= target:\n",
    "            left = mid + 1\n",
    "        else:\n",
    "            right = mid - 1\n",
    "    \n",
    "    # If the target is greater than all the letters\n",
    "    if left >= len(letters):\n",
    "        return letters[0]\n",
    "    else:\n",
    "        return letters[left]\n",
    "\n",
    "# Test the function with the given input\n",
    "letters = ['c', 'f', 'j']\n",
    "target = 'a'\n",
    "print(nextGreatestLetter(letters, target))  # Output: 'c'\n"
   ]
  },
  {
   "cell_type": "code",
   "execution_count": null,
   "id": "c75a2c2a-2ece-4eb6-9f3c-6d53951694f8",
   "metadata": {},
   "outputs": [],
   "source": [
    "Problem 22: Given an array with n objects colored red, white, or blue, sort them in-place so that objects of \n",
    "the same color are adjacent, with the colors in the order red, white, and blue\n",
    "Input: nums = [2, 0, 2, 1, 1, 0]\n",
    "\n",
    "Output: [0, 0, 1, 1, 2, 2"
   ]
  },
  {
   "cell_type": "code",
   "execution_count": 41,
   "id": "a0eda859-8fad-4369-961a-41a09f107628",
   "metadata": {},
   "outputs": [
    {
     "name": "stdout",
     "output_type": "stream",
     "text": [
      "[0, 0, 1, 1, 2, 2]\n"
     ]
    }
   ],
   "source": [
    "def sortColors(nums):\n",
    "    # Initialize pointers for red, white, and blue sections\n",
    "    red, white, blue = 0, 0, len(nums) - 1\n",
    "    \n",
    "    while white <= blue:\n",
    "        if nums[white] == 0:  # If the element is red\n",
    "            nums[red], nums[white] = nums[white], nums[red]\n",
    "            red += 1\n",
    "            white += 1\n",
    "        elif nums[white] == 1:  # If the element is white\n",
    "            white += 1\n",
    "        else:  # If the element is blue\n",
    "            nums[white], nums[blue] = nums[blue], nums[white]\n",
    "            blue -= 1\n",
    "    \n",
    "    return nums\n",
    "\n",
    "# Test the function with the given input\n",
    "nums = [2, 0, 2, 1, 1, 0]\n",
    "print(sortColors(nums))  # Output: [0, 0, 1, 1, 2, 2]\n"
   ]
  },
  {
   "cell_type": "code",
   "execution_count": null,
   "id": "a56db2dd-e1e1-4b06-823b-26c2bea6e073",
   "metadata": {},
   "outputs": [],
   "source": [
    "Problem 23: Find the kth largest element in an unsorted array.\n",
    "Input: nums = [3, 2, 1, 5, 6, 4], k = 2\n",
    "\n",
    "Output: 5"
   ]
  },
  {
   "cell_type": "code",
   "execution_count": 42,
   "id": "579e8dbe-3ed3-4db8-b45e-67f606d5002f",
   "metadata": {},
   "outputs": [
    {
     "name": "stdout",
     "output_type": "stream",
     "text": [
      "5\n"
     ]
    }
   ],
   "source": [
    "import random\n",
    "\n",
    "def findKthLargest(nums, k):\n",
    "    # Define the partition function (using Lomuto partition scheme)\n",
    "    def partition(left, right, pivot_index):\n",
    "        pivot = nums[pivot_index]\n",
    "        # Move pivot to the end\n",
    "        nums[pivot_index], nums[right] = nums[right], nums[pivot_index]\n",
    "        \n",
    "        # Move all elements smaller than the pivot to the left\n",
    "        store_index = left\n",
    "        for i in range(left, right):\n",
    "            if nums[i] < pivot:\n",
    "                nums[i], nums[store_index] = nums[store_index], nums[i]\n",
    "                store_index += 1\n",
    "        \n",
    "        # Move pivot to its final place\n",
    "        nums[right], nums[store_index] = nums[store_index], nums[right]\n",
    "        return store_index\n",
    "    \n",
    "    # Define the quickselect function\n",
    "    def quickselect(left, right, k_smallest):\n",
    "        if left == right:\n",
    "            return nums[left]\n",
    "        \n",
    "        # Choose a random pivot index\n",
    "        pivot_index = random.randint(left, right)\n",
    "        \n",
    "        # Perform partition and get the final position of the pivot in sorted array\n",
    "        pivot_index = partition(left, right, pivot_index)\n",
    "        \n",
    "        # Check if the pivot is the kth largest element\n",
    "        if k_smallest == pivot_index:\n",
    "            return nums[k_smallest]\n",
    "        elif k_smallest < pivot_index:\n",
    "            return quickselect(left, pivot_index - 1, k_smallest)\n",
    "        else:\n",
    "            return quickselect(pivot_index + 1, right, k_smallest)\n",
    "    \n",
    "    # Call the quickselect function to find the kth largest element\n",
    "    return quickselect(0, len(nums) - 1, len(nums) - k)\n",
    "\n",
    "# Test the function with the given input\n",
    "nums = [3, 2, 1, 5, 6, 4]\n",
    "k = 2\n",
    "print(findKthLargest(nums, k))  # Output: 5\n"
   ]
  },
  {
   "cell_type": "code",
   "execution_count": null,
   "id": "03397d6a-c0ba-43d8-967f-8136f062a57a",
   "metadata": {},
   "outputs": [],
   "source": [
    "Problem 24: Given an unsorted array, reorder it in-place such that nums[0] <= nums[1] >= nums[2] <= \n",
    "nums[3]..\n",
    "Input: nums = [3, 5, 2, 1, 6, 4]\n",
    "\n",
    "Output: [3, 5, 1, 6, 2, 4]"
   ]
  },
  {
   "cell_type": "code",
   "execution_count": 43,
   "id": "62760bc6-c5e6-496c-a371-bbd3d4b5424b",
   "metadata": {},
   "outputs": [
    {
     "name": "stdout",
     "output_type": "stream",
     "text": [
      "[5, 2, 3, 1, 6, 4]\n"
     ]
    }
   ],
   "source": [
    "def wiggleSort(nums):\n",
    "    # Iterate through the array starting from the second element\n",
    "    for i in range(1, len(nums)):\n",
    "        # If the current index is even and the previous element is greater than the current element,\n",
    "        # or if the current index is odd and the previous element is less than the current element,\n",
    "        # swap the elements to satisfy the condition\n",
    "        if (i % 2 == 0 and nums[i - 1] > nums[i]) or (i % 2 == 1 and nums[i - 1] < nums[i]):\n",
    "            nums[i - 1], nums[i] = nums[i], nums[i - 1]\n",
    "    \n",
    "    return nums\n",
    "\n",
    "# Test the function with the given input\n",
    "nums = [3, 5, 2, 1, 6, 4]\n",
    "print(wiggleSort(nums))  # Output: [3, 5, 1, 6, 2, 4]\n"
   ]
  },
  {
   "cell_type": "code",
   "execution_count": null,
   "id": "603734d2-ca6d-474a-9dce-8d4f99600090",
   "metadata": {},
   "outputs": [],
   "source": [
    "Problem 25: Given an array of integers, calculate the sum of all its elements.\n",
    "Input: [1, 2, 3, 4, 5]\n",
    "\n",
    "Output: 15"
   ]
  },
  {
   "cell_type": "code",
   "execution_count": 46,
   "id": "5906fa92-98ab-43f3-9138-18d1bcaa6c5a",
   "metadata": {},
   "outputs": [
    {
     "name": "stdout",
     "output_type": "stream",
     "text": [
      "15\n"
     ]
    }
   ],
   "source": [
    "def calculate_sum(nums):\n",
    "    total_sum = 0\n",
    "    for num in nums:\n",
    "        total_sum += num\n",
    "    return total_sum\n",
    "\n",
    "# Test the function with the given input\n",
    "nums = [1,2,3,4,5]\n",
    "print(calculate_sum(nums))  # Output: 15\n"
   ]
  },
  {
   "cell_type": "code",
   "execution_count": null,
   "id": "5ff5968e-c918-4d89-a28e-b76ac1a3cdee",
   "metadata": {},
   "outputs": [],
   "source": [
    "Problem 26: Find the maximum element in an array of integers.\n",
    "Input: [3, 7, 2, 9, 4, 1]\n",
    "\n",
    "Output: 9"
   ]
  },
  {
   "cell_type": "code",
   "execution_count": 47,
   "id": "ab683a8c-5edf-4f35-89d9-512751709ef7",
   "metadata": {},
   "outputs": [
    {
     "name": "stdout",
     "output_type": "stream",
     "text": [
      "9\n"
     ]
    }
   ],
   "source": [
    "def find_maximum(nums):\n",
    "    if not nums:\n",
    "        return None\n",
    "    \n",
    "    max_element = nums[0]\n",
    "    for num in nums:\n",
    "        if num > max_element:\n",
    "            max_element = num\n",
    "    return max_element\n",
    "\n",
    "# Test the function with the given input\n",
    "nums = [3, 7, 2, 9, 4, 1]\n",
    "print(find_maximum(nums))  # Output: 9\n"
   ]
  },
  {
   "cell_type": "code",
   "execution_count": null,
   "id": "1291e065-ddb7-4205-8fa1-5fe94a5eaea2",
   "metadata": {},
   "outputs": [],
   "source": [
    "Problem 27: Implement linear search to find the index of a target element in an array.\n",
    "Input: [5, 3, 8, 2, 7, 4], target = 8\n",
    "\n",
    "Output: 2"
   ]
  },
  {
   "cell_type": "code",
   "execution_count": 48,
   "id": "07193f1d-c7e8-4f88-b69e-90ed4e5d83f6",
   "metadata": {},
   "outputs": [
    {
     "name": "stdout",
     "output_type": "stream",
     "text": [
      "2\n"
     ]
    }
   ],
   "source": [
    "def linear_search(nums, target):\n",
    "    for i in range(len(nums)):\n",
    "        if nums[i] == target:\n",
    "            return i\n",
    "    return -1  # Return -1 if the target element is not found\n",
    "\n",
    "# Test the function with the given input\n",
    "nums = [5, 3, 8, 2, 7, 4]\n",
    "target = 8\n",
    "print(linear_search(nums, target))  # Output: 2\n"
   ]
  },
  {
   "cell_type": "code",
   "execution_count": null,
   "id": "8fc6d77f-e0aa-4015-93dc-4588808a6e11",
   "metadata": {},
   "outputs": [],
   "source": [
    "Problem 28 Calculate the factorial of a given number.\n",
    "Input: 5\n",
    "\n",
    "Output: 120 (as 5! = 5 * 4 * 3 * 2 * 1 = 120)"
   ]
  },
  {
   "cell_type": "code",
   "execution_count": 52,
   "id": "401d09e5-9030-4f30-9f38-23c6d06f7017",
   "metadata": {},
   "outputs": [
    {
     "name": "stdin",
     "output_type": "stream",
     "text": [
      "Enter a number 5\n"
     ]
    },
    {
     "name": "stdout",
     "output_type": "stream",
     "text": [
      "120\n"
     ]
    }
   ],
   "source": [
    "def factorial(n):\n",
    "    result = 1\n",
    "    for i in range(2, n + 1):\n",
    "        result *= i\n",
    "    return result\n",
    "\n",
    "# Test the function with the given input\n",
    "n = int(input(\"Enter a number\"))\n",
    "print(factorial(n))  # Output: 120\n"
   ]
  },
  {
   "cell_type": "code",
   "execution_count": null,
   "id": "086e3de0-dc47-477f-8075-8394b241a420",
   "metadata": {},
   "outputs": [],
   "source": [
    "Problem 29: Check if a given number is a prime number.\n",
    "Input: 7\n",
    "\n",
    "Output: True"
   ]
  },
  {
   "cell_type": "code",
   "execution_count": 56,
   "id": "9e581796-5ace-449d-8459-c083ff5ace7a",
   "metadata": {},
   "outputs": [
    {
     "name": "stdin",
     "output_type": "stream",
     "text": [
      "Enter a number 7\n"
     ]
    },
    {
     "name": "stdout",
     "output_type": "stream",
     "text": [
      "True\n"
     ]
    }
   ],
   "source": [
    "import math\n",
    "\n",
    "def is_prime(n):\n",
    "    if n <= 1:\n",
    "        return False\n",
    "    if n == 2:\n",
    "        return True\n",
    "    if n % 2 == 0:\n",
    "        return False\n",
    "    \n",
    "    sqrt_n = int(math.sqrt(n))\n",
    "    for i in range(3, sqrt_n + 1, 2):\n",
    "        if n % i == 0:\n",
    "            return False\n",
    "    return True\n",
    "\n",
    "# Test the function with the given input\n",
    "n = int(input(\"Enter a number\"))\n",
    "print(is_prime(n))  # Output: True\n"
   ]
  },
  {
   "cell_type": "code",
   "execution_count": null,
   "id": "1387dbb4-95ae-462d-bec9-fb2a10b348de",
   "metadata": {},
   "outputs": [],
   "source": [
    "Problem 30: Generate the Fibonacci series up to a given number n.\n",
    "Input: 8\n",
    "\n",
    "Output: [0, 1, 1, 2, 3, 5, 8, 13]"
   ]
  },
  {
   "cell_type": "code",
   "execution_count": 57,
   "id": "ecfd6ae3-3084-4b35-8efa-a0954f64c25f",
   "metadata": {},
   "outputs": [
    {
     "name": "stdout",
     "output_type": "stream",
     "text": [
      "[0, 1, 1, 2, 3, 5, 8]\n"
     ]
    }
   ],
   "source": [
    "def generate_fibonacci(n):\n",
    "    fibonacci_series = [0, 1]  # Initialize the series with the first two Fibonacci numbers\n",
    "    \n",
    "    while fibonacci_series[-1] + fibonacci_series[-2] <= n:\n",
    "        next_fibonacci = fibonacci_series[-1] + fibonacci_series[-2]\n",
    "        fibonacci_series.append(next_fibonacci)\n",
    "    \n",
    "    return fibonacci_series\n",
    "\n",
    "# Test the function with the given input\n",
    "n = 8\n",
    "print(generate_fibonacci(n))  # Output: [0, 1, 1, 2, 3, 5, 8]\n"
   ]
  },
  {
   "cell_type": "code",
   "execution_count": null,
   "id": "981f41b4-8fdf-4eed-82e2-cd497a630e49",
   "metadata": {},
   "outputs": [],
   "source": [
    "Problem 31: Calculate the power of a number using recursion.\n",
    "Input: base = 3, exponent = 4\n",
    "\n",
    "Output: 81 (as 3^4 = 3 * 3 * 3 * 3 = 81)"
   ]
  },
  {
   "cell_type": "code",
   "execution_count": 60,
   "id": "edf1ed3a-4f12-417b-8d81-11c692d99510",
   "metadata": {},
   "outputs": [
    {
     "name": "stdout",
     "output_type": "stream",
     "text": [
      "81\n"
     ]
    }
   ],
   "source": [
    "def power(base, exponent):\n",
    "    if exponent == 0:\n",
    "        return 1\n",
    "    elif exponent < 0:\n",
    "        return 1 / power(base, -exponent)\n",
    "    else:\n",
    "        return base * power(base, exponent - 1)\n",
    "\n",
    "# Test the function with the given input\n",
    "base = 3\n",
    "exponent = 4\n",
    "\n",
    "print(power(base, exponent))  # Output: 81\n"
   ]
  },
  {
   "cell_type": "code",
   "execution_count": null,
   "id": "8628602e-33bc-48d3-a729-4ef58033d9b2",
   "metadata": {},
   "outputs": [],
   "source": []
  }
 ],
 "metadata": {
  "kernelspec": {
   "display_name": "Python 3 (ipykernel)",
   "language": "python",
   "name": "python3"
  },
  "language_info": {
   "codemirror_mode": {
    "name": "ipython",
    "version": 3
   },
   "file_extension": ".py",
   "mimetype": "text/x-python",
   "name": "python",
   "nbconvert_exporter": "python",
   "pygments_lexer": "ipython3",
   "version": "3.10.8"
  }
 },
 "nbformat": 4,
 "nbformat_minor": 5
}
